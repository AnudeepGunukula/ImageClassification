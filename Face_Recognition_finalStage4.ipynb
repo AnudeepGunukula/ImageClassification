{
 "cells": [
  {
   "cell_type": "code",
   "execution_count": 4,
   "metadata": {},
   "outputs": [
    {
     "name": "stdout",
     "output_type": "stream",
     "text": [
      "[[ 96.  23.  36. ... 229. 229. 231.]]\n",
      "4\n",
      "viratkohli\n"
     ]
    }
   ],
   "source": [
    "import cv2\n",
    "import numpy as np\n",
    "import pywt\n",
    "import joblib\n",
    "\n",
    "face_cascade = cv2.CascadeClassifier('haarcascade_frontalface_default.xml')\n",
    "img = cv2.imread('test.jpeg')\n",
    "\n",
    "gray = cv2.cvtColor(img, cv2.COLOR_BGR2GRAY)\n",
    "faces = face_cascade.detectMultiScale(gray, 1.3, 5)\n",
    "for (x, y, w, h) in faces:\n",
    "        cv2.rectangle(img, (x, y), (x+w, y+h), (255, 0, 0), 2)\n",
    "        roi_gray = gray[y:y+h, x:x+w]\n",
    "        roi_img = img[y:y+h, x:x+w]\n",
    "\n",
    "img = roi_img\n",
    "img = cv2.resize(img, (32, 32))\n",
    "org = img\n",
    "img = cv2.cvtColor(img, cv2.COLOR_RGB2GRAY)\n",
    "img = np.float32(img)\n",
    "img /= 255\n",
    "# plt.figure(figsize=(20,20))\n",
    "coef = pywt.wavedec2(img, 'db1', level=5)\n",
    "coef_list = list(coef)\n",
    "coef_list[0] *= 0\n",
    "jpg = pywt.waverec2(coef_list, 'db1')\n",
    "jpg *= 255\n",
    "jpg = np.uint8(jpg)\n",
    "# cv2.imshow('img',jpg)\n",
    "jpg = cv2.resize(jpg, (32, 32))\n",
    "comb = np.vstack((org.reshape(32*32*3, 1), jpg.reshape(32*32, 1)))\n",
    "comb = comb.reshape(1, 4096).astype(float)\n",
    "print(comb)\n",
    "model = joblib.load('first_machine.pkl')\n",
    "res = model.predict(comb)[0]\n",
    "print(res)\n",
    "stars={0:'conormcgregor',1:'kajal_agarwal',2:'sakshimalik',3:'sunnyleone',4:'viratkohli'}\n",
    "\n",
    "print(stars[res])\n",
    "if res==0:\n",
    "    conor=cv2.imread('conor.jpeg')\n",
    "    cv2.imshow('img',conor)\n",
    "    cv2.waitKey(0)\n",
    "elif res==1:\n",
    "    kajal=cv2.imread('kajal.jpeg')\n",
    "    cv2.imshow('img',kajal)\n",
    "    cv2.waitKey(0)\n",
    "elif res==2:\n",
    "    sakshi=cv2.imread('sakshi.jpeg')\n",
    "    cv2.imshow('img',sakshi)\n",
    "    cv2.waitKey(0)\n",
    "elif res==3:\n",
    "    sunny=cv2.imread('sunny.jpeg')\n",
    "    cv2.imshow('img',sunny)\n",
    "    cv2.waitKey(0)\n",
    "elif res==4:\n",
    "    virat=cv2.imread('virat.jpeg')\n",
    "    cv2.imshow('img',virat)\n",
    "    cv2.waitKey(0)\n",
    "cv2.destroyAllWindows()\n",
    "\n"
   ]
  },
  {
   "cell_type": "code",
   "execution_count": null,
   "metadata": {},
   "outputs": [],
   "source": []
  }
 ],
 "metadata": {
  "kernelspec": {
   "display_name": "Python 3",
   "language": "python",
   "name": "python3"
  },
  "language_info": {
   "codemirror_mode": {
    "name": "ipython",
    "version": 3
   },
   "file_extension": ".py",
   "mimetype": "text/x-python",
   "name": "python",
   "nbconvert_exporter": "python",
   "pygments_lexer": "ipython3",
   "version": "3.7.6"
  }
 },
 "nbformat": 4,
 "nbformat_minor": 4
}
