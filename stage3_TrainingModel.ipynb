{
 "cells": [
  {
   "cell_type": "code",
   "execution_count": 23,
   "metadata": {},
   "outputs": [
    {
     "name": "stdout",
     "output_type": "stream",
     "text": [
      "[[ 32.  42.  39. ...   3. 208. 229.]\n",
      " [ 73.  74.  71. ... 199. 203.  17.]\n",
      " [244. 147. 155. ...  87. 166.  73.]\n",
      " ...\n",
      " [253.   2.   1. ... 210. 232. 232.]\n",
      " [196.   3.   5. ... 255.   0.  10.]\n",
      " [168.  40.  43. ... 154. 154. 153.]]\n",
      "[0, 0, 0, 0, 0, 0, 0, 0, 0, 0, 0, 0, 0, 0, 0, 0, 0, 0, 0, 0, 0, 0, 0, 0, 0, 0, 0, 0, 0, 0, 0, 0, 0, 0, 0, 0, 0, 0, 0, 0, 0, 0, 0, 0, 0, 0, 0, 0, 0, 0, 0, 0, 0, 0, 0, 0, 0, 0, 0, 0, 0, 0, 0, 0, 0, 1, 1, 1, 1, 1, 1, 1, 1, 1, 1, 1, 1, 1, 1, 1, 1, 1, 1, 1, 1, 1, 1, 1, 1, 1, 1, 1, 1, 1, 1, 1, 1, 1, 1, 1, 1, 1, 1, 1, 1, 1, 1, 1, 1, 1, 1, 1, 1, 1, 1, 1, 1, 1, 1, 1, 1, 1, 1, 1, 1, 1, 1, 1, 1, 1, 1, 1, 1, 1, 1, 1, 1, 1, 1, 1, 1, 1, 1, 1, 1, 1, 1, 1, 1, 1, 1, 1, 1, 1, 1, 1, 2, 2, 2, 2, 2, 2, 2, 2, 2, 2, 2, 2, 2, 2, 2, 2, 2, 2, 2, 2, 2, 2, 2, 2, 2, 2, 2, 2, 2, 2, 2, 2, 2, 2, 2, 2, 2, 2, 2, 2, 2, 2, 2, 2, 2, 2, 2, 2, 2, 2, 2, 2, 2, 2, 2, 2, 2, 2, 2, 2, 2, 2, 2, 2, 2, 2, 2, 2, 2, 2, 2, 2, 2, 2, 2, 2, 2, 2, 2, 2, 2, 2, 2, 2, 2, 2, 2, 2, 2, 2, 2, 2, 2, 2, 2, 2, 2, 2, 2, 2, 2, 2, 2, 2, 2, 2, 2, 2, 2, 2, 2, 2, 2, 2, 2, 2, 2, 2, 2, 2, 2, 2, 2, 2, 2, 2, 2, 2, 2, 2, 3, 3, 3, 3, 3, 3, 3, 3, 3, 3, 3, 3, 3, 3, 3, 3, 3, 3, 3, 3, 3, 3, 3, 3, 3, 3, 3, 3, 3, 3, 3, 3, 3, 3, 3, 3, 3, 3, 3, 3, 3, 3, 3, 3, 3, 3, 3, 3, 3, 3, 3, 3, 3, 3, 3, 3, 3, 3, 3, 3, 3, 3, 3, 3, 3, 3, 3, 3, 3, 3, 3, 3, 3, 3, 3, 3, 3, 3, 3, 3, 3, 3, 3, 3, 3, 3, 4, 4, 4, 4, 4, 4, 4, 4, 4, 4, 4, 4, 4, 4, 4, 4, 4, 4, 4, 4, 4, 4, 4, 4, 4, 4, 4, 4, 4, 4, 4, 4, 4, 4, 4, 4]\n"
     ]
    },
    {
     "data": {
      "text/plain": [
       "(408, 4096)"
      ]
     },
     "execution_count": 23,
     "metadata": {},
     "output_type": "execute_result"
    }
   ],
   "source": [
    "import numpy as np\n",
    "import matplotlib.pyplot as plt\n",
    "import cv2\n",
    "import pywt\n",
    "import os\n",
    "x=[]\n",
    "y=[]\n",
    "stars={'conormcgregor':0,'kajal_agarwal':1,'sakshimalik':2,'sunnyleone':3,'viratkohli':4}\n",
    "path='D:\\Artificial_Intelligence\\projects\\scraped_img\\celeb'\n",
    "num=-1\n",
    "for files in os.listdir(path):\n",
    "     num+=1\n",
    "     for i in os.listdir(path+'\\\\'+files):\n",
    "            #print(i)\n",
    "            pat=path+'\\\\'+files+'\\\\'+i\n",
    "            img=cv2.imread(pat)\n",
    "            img=cv2.resize(img,(32,32))\n",
    "            org=img\n",
    "            img=cv2.cvtColor(img,cv2.COLOR_RGB2GRAY)\n",
    "            img=np.float32(img)\n",
    "            img/=255\n",
    "            #plt.figure(figsize=(20,20))\n",
    "            coef=pywt.wavedec2(img,'db1',level=5)\n",
    "            coef_list=list(coef)\n",
    "            coef_list[0]*=0\n",
    "            jpg=pywt.waverec2(coef_list,'db1')\n",
    "            jpg*=255\n",
    "            jpg=np.uint8(jpg)\n",
    "            jpg=cv2.resize(jpg,(32,32))\n",
    "            comb=np.vstack((org.reshape(32*32*3,1),jpg.reshape(32*32,1)))\n",
    "            x.append(comb)\n",
    "            y.append(num)\n",
    "\n",
    "x=np.array(x).reshape(len(x),4096)\n",
    "x=np.float32(x)\n",
    "print(x)\n",
    "print(y)\n",
    "x.shape\n"
   ]
  },
  {
   "cell_type": "code",
   "execution_count": 24,
   "metadata": {},
   "outputs": [
    {
     "name": "stdout",
     "output_type": "stream",
     "text": [
      "0.8921568627450981\n",
      "              precision    recall  f1-score   support\n",
      "\n",
      "           0       0.80      0.92      0.86        13\n",
      "           1       0.87      0.91      0.89        22\n",
      "           2       0.91      0.89      0.90        36\n",
      "           3       0.92      0.92      0.92        24\n",
      "           4       1.00      0.71      0.83         7\n",
      "\n",
      "    accuracy                           0.89       102\n",
      "   macro avg       0.90      0.87      0.88       102\n",
      "weighted avg       0.90      0.89      0.89       102\n",
      "\n"
     ]
    }
   ],
   "source": [
    "from sklearn.svm import SVC\n",
    "from sklearn.preprocessing import StandardScaler\n",
    "from sklearn.model_selection import train_test_split\n",
    "from sklearn.pipeline import Pipeline\n",
    "from sklearn.metrics import classification_report\n",
    "import cv2\n",
    "\n",
    "x_train,x_test,y_train,y_test=train_test_split(x,y,random_state=26)\n",
    "pipe=Pipeline([('Scaler',StandardScaler()),('svc',SVC(kernel='rbf',C=10))])\n",
    "pipe.fit(x_train,y_train)\n",
    "print(pipe.score(x_test,y_test))\n",
    "print(classification_report(y_test,pipe.predict(x_test)))\n"
   ]
  },
  {
   "cell_type": "code",
   "execution_count": 25,
   "metadata": {},
   "outputs": [
    {
     "data": {
      "text/plain": [
       "array([[12,  1,  0,  0,  0],\n",
       "       [ 1, 20,  1,  0,  0],\n",
       "       [ 0,  2, 32,  2,  0],\n",
       "       [ 0,  0,  2, 22,  0],\n",
       "       [ 2,  0,  0,  0,  5]], dtype=int64)"
      ]
     },
     "execution_count": 25,
     "metadata": {},
     "output_type": "execute_result"
    }
   ],
   "source": [
    "from sklearn.metrics import confusion_matrix\n",
    "cm=confusion_matrix(y_test,pipe.predict(x_test))\n",
    "cm"
   ]
  },
  {
   "cell_type": "code",
   "execution_count": 26,
   "metadata": {},
   "outputs": [
    {
     "data": {
      "text/plain": [
       "<matplotlib.axes._subplots.AxesSubplot at 0x20d00450e88>"
      ]
     },
     "execution_count": 26,
     "metadata": {},
     "output_type": "execute_result"
    },
    {
     "data": {
      "image/png": "[encoded data removed]",
      "text/plain": [
       "<Figure size 720x504 with 2 Axes>"
      ]
     },
     "metadata": {
      "needs_background": "light"
     },
     "output_type": "display_data"
    }
   ],
   "source": [
    "import seaborn as sn\n",
    "plt.figure(figsize=(10,7))\n",
    "sn.heatmap(cm,annot=True)"
   ]
  },
  {
   "cell_type": "code",
   "execution_count": 27,
   "metadata": {},
   "outputs": [
    {
     "data": {
      "text/plain": [
       "['first_machine.pkl']"
      ]
     },
     "execution_count": 27,
     "metadata": {},
     "output_type": "execute_result"
    }
   ],
   "source": [
    "import joblib \n",
    "joblib.dump(pipe,'first_machine.pkl')"
   ]
  },
  {
   "cell_type": "code",
   "execution_count": null,
   "metadata": {},
   "outputs": [],
   "source": []
  },
  {
   "cell_type": "code",
   "execution_count": null,
   "metadata": {},
   "outputs": [],
   "source": []
  }
 ],
 "metadata": {
  "kernelspec": {
   "display_name": "Python 3",
   "language": "python",
   "name": "python3"
  },
  "language_info": {
   "codemirror_mode": {
    "name": "ipython",
    "version": 3
   },
   "file_extension": ".py",
   "mimetype": "text/x-python",
   "name": "python",
   "nbconvert_exporter": "python",
   "pygments_lexer": "ipython3",
   "version": "3.7.6"
  }
 },
 "nbformat": 4,
 "nbformat_minor": 4
}
